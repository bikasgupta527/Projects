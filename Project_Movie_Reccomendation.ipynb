{
 "cells": [
  {
   "cell_type": "code",
   "execution_count": 2,
   "metadata": {},
   "outputs": [],
   "source": [
    "import numpy as np\n",
    "import pandas as pd"
   ]
  },
  {
   "cell_type": "code",
   "execution_count": 3,
   "metadata": {},
   "outputs": [],
   "source": [
    "movie = pd.read_csv('movie_dataset.csv')"
   ]
  },
  {
   "cell_type": "code",
   "execution_count": 35,
   "metadata": {},
   "outputs": [
    {
     "name": "stdout",
     "output_type": "stream",
     "text": [
      "Index(['index', 'budget', 'genres', 'homepage', 'id', 'keywords',\n",
      "       'original_language', 'original_title', 'overview', 'popularity',\n",
      "       'production_companies', 'production_countries', 'release_date',\n",
      "       'revenue', 'runtime', 'spoken_languages', 'status', 'tagline', 'title',\n",
      "       'vote_average', 'vote_count', 'cast', 'crew', 'director'],\n",
      "      dtype='object')\n"
     ]
    }
   ],
   "source": [
    "print(movie.columns)"
   ]
  },
  {
   "cell_type": "code",
   "execution_count": 21,
   "metadata": {},
   "outputs": [],
   "source": [
    "def combined_feature(row):\n",
    "    return row['keywords']+\" \"+row['cast']+\" \"+row['genres']+\" \"+row['director']"
   ]
  },
  {
   "cell_type": "code",
   "execution_count": 19,
   "metadata": {},
   "outputs": [],
   "source": [
    "movie['keywords'] = movie['keywords'].fillna('')\n",
    "movie['cast'] = movie['cast'].fillna('')\n",
    "movie['genres'] = movie['genres'].fillna('')\n",
    "movie['director'] = movie['director'].fillna('')"
   ]
  },
  {
   "cell_type": "code",
   "execution_count": 22,
   "metadata": {},
   "outputs": [],
   "source": [
    "combine_features = combined_feature(movie)"
   ]
  },
  {
   "cell_type": "code",
   "execution_count": 23,
   "metadata": {},
   "outputs": [
    {
     "data": {
      "text/plain": [
       "0       culture clash future space war space colony so...\n",
       "1       ocean drug abuse exotic island east india trad...\n",
       "2       spy based on novel secret agent sequel mi6 Dan...\n",
       "3       dc comics crime fighter terrorist secret ident...\n",
       "4       based on novel mars medallion space travel pri...\n",
       "                              ...                        \n",
       "4798    united states\\u2013mexico barrier legs arms pa...\n",
       "4799     Edward Burns Kerry Bish\\u00e9 Marsha Dietlein...\n",
       "4800    date love at first sight narration investigati...\n",
       "4801     Daniel Henney Eliza Coupe Bill Paxton Alan Ru...\n",
       "4802    obsession camcorder crush dream girl Drew Barr...\n",
       "Length: 4803, dtype: object"
      ]
     },
     "execution_count": 23,
     "metadata": {},
     "output_type": "execute_result"
    }
   ],
   "source": [
    "combine_features"
   ]
  },
  {
   "cell_type": "code",
   "execution_count": 24,
   "metadata": {},
   "outputs": [],
   "source": [
    "from sklearn.feature_extraction.text import CountVectorizer\n",
    "from sklearn.metrics.pairwise import cosine_similarity"
   ]
  },
  {
   "cell_type": "code",
   "execution_count": 25,
   "metadata": {},
   "outputs": [],
   "source": [
    "cv = CountVectorizer()"
   ]
  },
  {
   "cell_type": "code",
   "execution_count": 26,
   "metadata": {},
   "outputs": [],
   "source": [
    "com_movie = cv.fit_transform(combine_features)"
   ]
  },
  {
   "cell_type": "code",
   "execution_count": 29,
   "metadata": {},
   "outputs": [],
   "source": [
    "cosine_sim = cosine_similarity(com_movie)"
   ]
  },
  {
   "cell_type": "code",
   "execution_count": 30,
   "metadata": {},
   "outputs": [
    {
     "data": {
      "text/plain": [
       "array([[1.        , 0.10540926, 0.12038585, ..., 0.        , 0.        ,\n",
       "        0.        ],\n",
       "       [0.10540926, 1.        , 0.0761387 , ..., 0.03651484, 0.        ,\n",
       "        0.        ],\n",
       "       [0.12038585, 0.0761387 , 1.        , ..., 0.        , 0.11145564,\n",
       "        0.        ],\n",
       "       ...,\n",
       "       [0.        , 0.03651484, 0.        , ..., 1.        , 0.        ,\n",
       "        0.04264014],\n",
       "       [0.        , 0.        , 0.11145564, ..., 0.        , 1.        ,\n",
       "        0.        ],\n",
       "       [0.        , 0.        , 0.        , ..., 0.04264014, 0.        ,\n",
       "        1.        ]])"
      ]
     },
     "execution_count": 30,
     "metadata": {},
     "output_type": "execute_result"
    }
   ],
   "source": [
    "cosine_sim"
   ]
  },
  {
   "cell_type": "code",
   "execution_count": 31,
   "metadata": {},
   "outputs": [],
   "source": [
    "def get_title_from_index(index):\n",
    "    return movie[movie.index==index]['title'].values[0]\n",
    "def get_index_from_title(title):\n",
    "    return movie[movie.title==title]['index'].values[0]"
   ]
  },
  {
   "cell_type": "code",
   "execution_count": 36,
   "metadata": {},
   "outputs": [],
   "source": [
    "user_like = 'Avatar'\n",
    "movie_index = get_index_from_title(user_like)\n",
    "similar_movie = list(enumerate(cosine_sim[movie_index]))"
   ]
  },
  {
   "cell_type": "code",
   "execution_count": 37,
   "metadata": {},
   "outputs": [],
   "source": [
    "sorted_similar_movie = sorted(similar_movie,key=lambda x:x[1],reverse=True)"
   ]
  },
  {
   "cell_type": "code",
   "execution_count": 38,
   "metadata": {},
   "outputs": [],
   "source": [
    "def similar_movie(sim_index):\n",
    "    i = 0\n",
    "    li = []\n",
    "    for similar in sim_index:\n",
    "        li.append(get_title_from_index(similar[0]))\n",
    "        i += 1 \n",
    "        if i==50:\n",
    "            break\n",
    "    return li"
   ]
  },
  {
   "cell_type": "code",
   "execution_count": 39,
   "metadata": {},
   "outputs": [
    {
     "data": {
      "text/plain": [
       "['Avatar',\n",
       " 'Guardians of the Galaxy',\n",
       " 'Aliens',\n",
       " 'Star Wars: Clone Wars: Volume 1',\n",
       " 'Star Trek Into Darkness',\n",
       " 'Star Trek Beyond',\n",
       " 'Alien',\n",
       " 'Lockout',\n",
       " 'Jason X',\n",
       " 'The Helix... Loaded',\n",
       " 'Moonraker',\n",
       " 'Planet of the Apes',\n",
       " 'Galaxy Quest',\n",
       " 'Gravity',\n",
       " 'Alien³',\n",
       " 'Jupiter Ascending',\n",
       " 'The Wolverine',\n",
       " 'Silent Running',\n",
       " 'Zathura: A Space Adventure',\n",
       " 'Trekkies',\n",
       " 'Cargo',\n",
       " 'Wing Commander',\n",
       " 'Star Trek',\n",
       " 'Lost in Space',\n",
       " 'Babylon A.D.',\n",
       " 'The Fifth Element',\n",
       " 'Oblivion',\n",
       " 'Titan A.E.',\n",
       " 'AVP: Alien vs. Predator',\n",
       " 'The Empire Strikes Back',\n",
       " 'Dragonball Evolution',\n",
       " 'Superman Returns',\n",
       " 'Divergent',\n",
       " 'John Carter',\n",
       " 'The Black Hole',\n",
       " 'The Ice Pirates',\n",
       " 'Memoirs of an Invisible Man',\n",
       " 'Starship Troopers',\n",
       " \"The Astronaut's Wife\",\n",
       " 'Machete Kills',\n",
       " 'Soldier',\n",
       " 'The Abyss',\n",
       " 'Damnation Alley',\n",
       " 'Men in Black',\n",
       " 'Space Cowboys',\n",
       " 'Space Dogs',\n",
       " 'The Time Machine',\n",
       " 'Sheena',\n",
       " 'Captain America: Civil War',\n",
       " 'Star Trek: Insurrection']"
      ]
     },
     "execution_count": 39,
     "metadata": {},
     "output_type": "execute_result"
    }
   ],
   "source": [
    "similar_movie(sorted_similar_movie)"
   ]
  },
  {
   "cell_type": "code",
   "execution_count": null,
   "metadata": {},
   "outputs": [],
   "source": []
  }
 ],
 "metadata": {
  "kernelspec": {
   "display_name": "Python 3",
   "language": "python",
   "name": "python3"
  },
  "language_info": {
   "codemirror_mode": {
    "name": "ipython",
    "version": 3
   },
   "file_extension": ".py",
   "mimetype": "text/x-python",
   "name": "python",
   "nbconvert_exporter": "python",
   "pygments_lexer": "ipython3",
   "version": "3.7.4"
  }
 },
 "nbformat": 4,
 "nbformat_minor": 2
}
